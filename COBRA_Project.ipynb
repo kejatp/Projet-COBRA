{
  "cells": [
    {
      "cell_type": "markdown",
      "source": [
        "# Report of the paper"
      ],
      "metadata": {
        "id": "ZwksytsyWSR-"
      }
    },
    {
      "cell_type": "markdown",
      "source": [
        "This paper present a new machine learning technique aiming to conbined estimators in a unsual way. \n",
        "\n",
        "For now, most of the technique use a linear combination (or convex combination) to create a new estimator. \n",
        "\n",
        "Here the idea is to combine those estimators in a model-free, data dependant and non linear way. "
      ],
      "metadata": {
        "id": "XwZHzgURWo5y"
      }
    },
    {
      "cell_type": "markdown",
      "source": [
        "Here we introduce different notation:\n",
        "- $\\mathscr{D}_n=\\left\\{\\left(\\mathbf{X}_1, Y_1\\right), \\ldots,\\left(\\mathbf{X}_n, Y_n\\right)\\right\\}$ represent the training set (implemented in the class `Dataset()`)\n",
        "- $M$ is the number of basic machines (represented by the attribut `self.nb_machine` in the `COBRA()` class. \n",
        "- $\\mathscr{R} = \\{r_1, \\ldots, r_M\\}$ is the set of the basic machines. (represented by the attribut `self.machines` in the class `COBRA()` and each basic machine is a object of the class `Machine()`)\n",
        "- $\\epsilon_\\ell$ is the threshold in the definition of the $T_n$ estimator (equation 1 bellow). (represented by the attribut `self.epsilon` in the `COBRA()` class.  \n",
        "- $\\alpha \\in \\left[\\frac{1}{M},\\frac{2}{M},\\ldots,1\\right]$ is define as the proportion of machine that need to agree to keep $Y_i$ in the equation 1. (represented by the attribut `self.alpha` in the `COBRA()` class.\n"
      ],
      "metadata": {
        "id": "gllOmPc78y5S"
      }
    },
    {
      "cell_type": "markdown",
      "source": [
        "### The COBRA algorithm"
      ],
      "metadata": {
        "id": "xoH-vFC0TRTe"
      }
    },
    {
      "cell_type": "markdown",
      "source": [
        "The algorithm work as follow:\n",
        "1. Split $\\mathscr{D}_n$ in 2:\n",
        "  - $\\mathscr{D}_{k}=\\left\\{\\left(\\mathbf{X}_1, Y_1\\right), \\ldots,\\left(\\mathbf{X}_k, Y_k\\right)\\right\\}$ $\\rightarrow$ The part of the dataset use for training the basic machine.\n",
        "  - $\\mathscr{D}_{\\ell}=\\left\\{\\left(\\mathbf{X}_{k+1}, Y_{k+1}\\right), \\ldots,\\left(\\mathbf{X}_n, Y_n\\right)\\right\\} $$\\rightarrow$ The part of the dataset use for training COBRA it self.\n",
        "\n",
        "  the splitting ratio is the atribut `self.ratio`in the `COBRA()`class. it is set to be 0.5 by default. It is and hyperparamater that should be optimize, nevertheless, it is not the most important one. To split the dataset, we can use the method `split()` in the class `Dataset()`\n",
        "2. Train all the basic machine on $\\mathscr{D}_{k}$. It is done with the method `self.train()` of the `COBRA()` class.\n",
        "The next step is to train the combined estimator $T_n$define by this equation:\n",
        "\\begin{equation}\n",
        "\\tag{1}\n",
        "T_n\\left(\\mathbf{r}_k(\\mathbf{x})\\right)=\\sum_{i=1}^{\\ell} W_{n, i}(\\mathbf{x}) Y_i\n",
        "\\end{equation}\n",
        "where : \n",
        "\\begin{equation}\n",
        "\\tag{2}\n",
        "W_{n, i}(\\mathbf{x})=\\frac{\\mathbf{1}_{\\bigcap_{m=1}^M\\left\\{\\left|r_{k, m}(\\mathbf{x})-r_{k, m}\\left(\\mathbf{x}_i\\right)\\right| \\leq \\varepsilon_{\\ell}\\right\\}}}{\\sum_{j=1}^{\\ell} \\mathbf{1}_{\\bigcap_{m=1}^M\\left\\{\\left|r_{k, m}(\\mathbf{x})-r_{k, m}\\left(\\mathbf{x}_j\\right)\\right| \\leq \\varepsilon_{\\ell}\\right\\}}}\n",
        "\\end{equation}\n",
        "ou (si $\\alpha \\neq 1$):\n",
        "\\begin{equation}\n",
        "\\tag{3}\n",
        "W_{n, i}(\\mathbf{x})=\\frac{\\mathbf{1}_{\\left\\{\\sum_{m=1}^M \\mathbf{1}_{\\left\\{\\left|r_{k, m}(\\mathbf{x})-r_{k, m}\\left(\\mathbf{x}_i\\right)\\right| \\leq \\varepsilon_{\\ell}\\right\\}} \\geq M \\alpha\\right\\}}}{\\sum_{j=1}^{\\ell} \\mathbf{1}_{\\left\\{\\sum_{m=1}^M \\mathbf{1}_{\\left\\{\\left|r_{k, m}(\\mathbf{x})-r_{k, m}\\left(\\mathbf{x}_j\\right)\\right| \\leq \\varepsilon_{\\ell}\\right\\}} \\geq M \\alpha\\right\\}}}\n",
        "\\end{equation}\n",
        "and $\\mathbf{x}$ is the data that we aim to predic.\n",
        "3. We first collect the prediction made by the basic machine on $\\mathscr{D}_{\\ell}$ and store it. We collect the estimation with the method `self.pretrain()`and store it in the atribute `self.preds` both of the `COBRA()` class. \n",
        "4. Then we can predict the input data $\\mathbf{x}$.\n",
        "  - First we calculate the prediction made by the basic machine on $\\mathbf{x}$\n",
        "  - Then we apply the rule define in equation 1. \n",
        "\n",
        "  This step is implemented in the method `self.predict()` in the `COBRA()` class \n"
      ],
      "metadata": {
        "id": "5F1Q4aI-8eE5"
      }
    },
    {
      "cell_type": "markdown",
      "source": [
        "### Discussion on $\\epsilon_\\ell$ and $\\alpha$"
      ],
      "metadata": {
        "id": "cEzLzxdnTF05"
      }
    },
    {
      "cell_type": "markdown",
      "source": [
        "One of the major issue with this algorithm is that is performence is closely related to the choose of $\\epsilon_\\ell$ and $\\alpha$. The paper stress that the algorithm is quick but indeed, we experiment that the selction phase of a good $\\epsilon_\\ell$ and $\\alpha$ can be quite heavy on dataset with very large value range. "
      ],
      "metadata": {
        "id": "KBsPUOKWEXew"
      }
    },
    {
      "cell_type": "markdown",
      "source": [
        "The method proposed to optimize $\\alpha$ and $\\epsilon_\\ell$ is the following :"
      ],
      "metadata": {
        "id": "UzaoTyxYKdBI"
      }
    },
    {
      "cell_type": "markdown",
      "source": [
        "Given a dataset $\\mathscr{D}_z=\\left\\{\\left(\\mathbf{X}_1, Y_1\\right), \\ldots,\\left(\\mathbf{X}_Z, Y_Z\\right)\\right\\}$\n",
        "\n",
        "We define the quadratic loss: \n",
        "\\begin{equation}\n",
        "\\tag{4}\n",
        "R(\\mathbf{Y_{pred}})=\\frac{1}{Z} \\sum_{j=1}^z\\left(Y_{pred,j}-Y_j\\right)^2\n",
        "\\end{equation}\n",
        "The goal is to find $\\alpha$ and $\\epsilon_\\ell$ that minimise this risk. \n",
        "\n",
        "In the paper, they suggest to test all alpha possible, and for epsilon do it an a range of $10^{-300}$ to a number proportional to the maximum difference between the prediction made by the basic machine on the training test.\n",
        "\n",
        "This difference can be huge so the time taken to optimize those hyperparameters could be non tractable. It is indeed the case for the Dataset that we first choose (California Housing Prices).\n",
        "\n",
        "We also think that optimising those hyperparamaters on the testing set do not guaratee that the model will behave right on a other dataset. And it is of course not realisticly possible do this optimization trick everytime we have a sample. "
      ],
      "metadata": {
        "id": "dXGWC3wKJSuw"
      }
    },
    {
      "cell_type": "markdown",
      "source": [
        "### Mathematical property of $T_n$"
      ],
      "metadata": {
        "id": "wNZ7ntnqTaOc"
      }
    },
    {
      "cell_type": "markdown",
      "source": [
        "Nevertheless, we also study the mathematical property of the estimator. In this part, the aim is to show that the estimator $T_n$ behave better than any combination of the basic machine.\n",
        "\n",
        "In this part, saying that the estimator f is better than the estimator g means that the quadratic risk of f is smaller than the quadratic risk of g.\n",
        "\n",
        "In a more formal way:\n",
        "\n",
        "Let $\\mathbf{X}$ be a sample of $\\mathscr{D}_n$\n",
        "\n",
        "We define the quadratic risk as follow :\n",
        "\\begin{equation*}\n",
        "R(f) = \\mathbb{E}\\left|f(\\mathbf{X})-r^{\\star}(\\mathbf{X})\\right|^2\n",
        "\\end{equation*}\n",
        "\n",
        "$f$ is sayed to be better than $g$ if $R(f) \\leq R(g)$ for all $\\mathbf{X}$ in $\\mathscr{D}_n$ \n",
        "\n",
        "We also make the assumption that the data set is finite (and so that the expectation is well define). "
      ],
      "metadata": {
        "id": "CcNCOqAVS-h4"
      }
    },
    {
      "cell_type": "markdown",
      "source": [
        "We set :\n",
        "\\begin{equation}\n",
        "\\tag{5}\n",
        "T\\left(\\mathbf{r}_k(\\mathbf{X})\\right)=\\mathbb{E}\\left[Y \\mid \\mathbf{r}_k(\\mathbf{X})\\right]\n",
        "\\end{equation}"
      ],
      "metadata": {
        "id": "-DHplYi2TjDB"
      }
    },
    {
      "cell_type": "markdown",
      "source": [
        "And by definition of the conditionnal esperance (We can see the conditionnal esperance as a projection to make sense of this inequality) :\n",
        "\\begin{equation}\n",
        "\\tag{6}\n",
        "\\mathbb{E}\\left|T\\left(\\mathbf{r}_k(\\mathbf{X})\\right)-Y\\right|^2 \\leq \\inf _f \\mathbb{E}\\left|f\\left(\\mathbf{r}_k(\\mathbf{X})\\right)-Y\\right|^2\n",
        "\\end{equation}"
      ],
      "metadata": {
        "id": "S1LrYeCkUKku"
      }
    },
    {
      "cell_type": "markdown",
      "source": [
        "***Proposition 1:***\n",
        "\\begin{equation}\n",
        "\\tag{7}\n",
        "\\mathbb{E}\\left|T_n\\left(\\mathbf{r}_k(\\mathbf{X})\\right)-r^{\\star}(\\mathbf{X})\\right|^2 \\leq \\mathbb{E}\\left|T_n\\left(\\mathbf{r}_k(\\mathbf{X})\\right)-T\\left(\\mathbf{r}_k(\\mathbf{X})\\right)\\right|^2+\\inf _f \\mathbb{E}\\left|f\\left(\\mathbf{r}_k(\\mathbf{X})\\right)-r^{\\star}(\\mathbf{X})\\right|^2\n",
        "\\end{equation}\n",
        "and therefore:\n",
        "\\begin{equation}\n",
        "\\tag{8}\n",
        "\\mathbb{E}\\left|T_n\\left(\\mathbf{r}_k(\\mathbf{X})\\right)-r^{\\star}(\\mathbf{X})\\right|^2 \\leq \\mathbb{E}\\left|T_n\\left(\\mathbf{r}_k(\\mathbf{X})\\right)-T\\left(\\mathbf{r}_k(\\mathbf{X})\\right)\\right|^2 + \\min _{m=1, \\ldots, M} \\mathbb{E}\\left|r_{k, m}(\\mathbf{X})-r^{\\star}(\\mathbf{X})\\right|^2\n",
        "\\end{equation}"
      ],
      "metadata": {
        "id": "MCCW4OG1Ut0B"
      }
    },
    {
      "cell_type": "markdown",
      "source": [
        "***Proposition 2*** :\n",
        "\n",
        "$\\forall \\mathbf{X} \\in \\mathscr{D}_n$ : \n",
        "\\begin{equation}\n",
        "\\tag{9}\n",
        "\\mathbb{E}\\left|T_n\\left(\\mathbf{r}_k(\\mathbf{X})\\right)-T\\left(\\mathbf{r}_k(\\mathbf{X})\\right)\\right|^2 \\rightarrow 0 \\quad \\text { as } \\ell \\rightarrow \\infty\n",
        "\\end{equation}"
      ],
      "metadata": {
        "id": "TOJFP2oZkRwn"
      }
    },
    {
      "cell_type": "markdown",
      "source": [
        "Proposition 1 is saying that the the estimator $T_n$ is \"almost\" better than the best prediction of each basic machine for each data point. The \"almost comme from this term $\\mathbb{E}\\left|T_n\\left(\\mathbf{r}_k(\\mathbf{X})\\right)-T\\left(\\mathbf{r}_k(\\mathbf{X})\\right)\\right|^2$ that we want to converge to 0 when n is large. This is what proposition 2 is telling us."
      ],
      "metadata": {
        "id": "n79pfp9rk-vO"
      }
    },
    {
      "cell_type": "markdown",
      "source": [
        "#Implementation"
      ],
      "metadata": {
        "id": "b2NIWVP2WWqV"
      }
    },
    {
      "cell_type": "code",
      "execution_count": null,
      "metadata": {
        "id": "8cgXAfYKz2go"
      },
      "outputs": [],
      "source": [
        "#Library use\n",
        "import numpy as np\n",
        "import torch as T\n",
        "import sklearn as sk\n",
        "import pandas as pd\n",
        "from sklearn.neighbors import KNeighborsRegressor\n",
        "from sklearn.tree import DecisionTreeRegressor\n",
        "from sklearn.ensemble import RandomForestRegressor\n",
        "from sklearn.metrics import mean_squared_error,r2_score\n",
        "from sklearn.neural_network import MLPClassifier\n",
        "from sklearn import tree\n",
        "from sklearn.neighbors import NearestNeighbors\n",
        "from sklearn import linear_model"
      ]
    },
    {
      "cell_type": "markdown",
      "source": [
        "### Quick EDA (Exploratory Data Analysis) of the dataset California Housing Prices."
      ],
      "metadata": {
        "id": "GipKTWbbuOFn"
      }
    },
    {
      "cell_type": "code",
      "execution_count": null,
      "metadata": {
        "id": "uXW2VfRqZ4t4"
      },
      "outputs": [],
      "source": [
        "train = pd.read_csv('/content/sample_data/california_housing_train.csv')\n",
        "test = pd.read_csv('/content/sample_data/california_housing_test.csv')"
      ]
    },
    {
      "cell_type": "markdown",
      "metadata": {
        "id": "nb6qtkeS5ojw"
      },
      "source": [
        "We print the size of the data"
      ]
    },
    {
      "cell_type": "code",
      "execution_count": null,
      "metadata": {
        "id": "9ciXuQaU5kIk",
        "colab": {
          "base_uri": "https://localhost:8080/"
        },
        "outputId": "53c77f2e-b557-48a0-81c2-45ad94fa6243"
      },
      "outputs": [
        {
          "output_type": "stream",
          "name": "stdout",
          "text": [
            "train : 17000\n",
            "test : 3000\n"
          ]
        }
      ],
      "source": [
        "print(f\"train : {len(train)}\")\n",
        "print(f\"test : {len(test)}\")"
      ]
    },
    {
      "cell_type": "code",
      "execution_count": null,
      "metadata": {
        "id": "saVNQ5gF58c7",
        "colab": {
          "base_uri": "https://localhost:8080/",
          "height": 206
        },
        "outputId": "02ba5208-ae4b-4236-f255-806a0f0159f1"
      },
      "outputs": [
        {
          "output_type": "execute_result",
          "data": {
            "text/plain": [
              "   longitude  latitude  housing_median_age  total_rooms  total_bedrooms  \\\n",
              "0    -114.31     34.19                15.0       5612.0          1283.0   \n",
              "1    -114.47     34.40                19.0       7650.0          1901.0   \n",
              "2    -114.56     33.69                17.0        720.0           174.0   \n",
              "3    -114.57     33.64                14.0       1501.0           337.0   \n",
              "4    -114.57     33.57                20.0       1454.0           326.0   \n",
              "\n",
              "   population  households  median_income  median_house_value  \n",
              "0      1015.0       472.0         1.4936             66900.0  \n",
              "1      1129.0       463.0         1.8200             80100.0  \n",
              "2       333.0       117.0         1.6509             85700.0  \n",
              "3       515.0       226.0         3.1917             73400.0  \n",
              "4       624.0       262.0         1.9250             65500.0  "
            ],
            "text/html": [
              "\n",
              "  <div id=\"df-edd3c2c2-454e-4a07-ba81-338dcc325d91\">\n",
              "    <div class=\"colab-df-container\">\n",
              "      <div>\n",
              "<style scoped>\n",
              "    .dataframe tbody tr th:only-of-type {\n",
              "        vertical-align: middle;\n",
              "    }\n",
              "\n",
              "    .dataframe tbody tr th {\n",
              "        vertical-align: top;\n",
              "    }\n",
              "\n",
              "    .dataframe thead th {\n",
              "        text-align: right;\n",
              "    }\n",
              "</style>\n",
              "<table border=\"1\" class=\"dataframe\">\n",
              "  <thead>\n",
              "    <tr style=\"text-align: right;\">\n",
              "      <th></th>\n",
              "      <th>longitude</th>\n",
              "      <th>latitude</th>\n",
              "      <th>housing_median_age</th>\n",
              "      <th>total_rooms</th>\n",
              "      <th>total_bedrooms</th>\n",
              "      <th>population</th>\n",
              "      <th>households</th>\n",
              "      <th>median_income</th>\n",
              "      <th>median_house_value</th>\n",
              "    </tr>\n",
              "  </thead>\n",
              "  <tbody>\n",
              "    <tr>\n",
              "      <th>0</th>\n",
              "      <td>-114.31</td>\n",
              "      <td>34.19</td>\n",
              "      <td>15.0</td>\n",
              "      <td>5612.0</td>\n",
              "      <td>1283.0</td>\n",
              "      <td>1015.0</td>\n",
              "      <td>472.0</td>\n",
              "      <td>1.4936</td>\n",
              "      <td>66900.0</td>\n",
              "    </tr>\n",
              "    <tr>\n",
              "      <th>1</th>\n",
              "      <td>-114.47</td>\n",
              "      <td>34.40</td>\n",
              "      <td>19.0</td>\n",
              "      <td>7650.0</td>\n",
              "      <td>1901.0</td>\n",
              "      <td>1129.0</td>\n",
              "      <td>463.0</td>\n",
              "      <td>1.8200</td>\n",
              "      <td>80100.0</td>\n",
              "    </tr>\n",
              "    <tr>\n",
              "      <th>2</th>\n",
              "      <td>-114.56</td>\n",
              "      <td>33.69</td>\n",
              "      <td>17.0</td>\n",
              "      <td>720.0</td>\n",
              "      <td>174.0</td>\n",
              "      <td>333.0</td>\n",
              "      <td>117.0</td>\n",
              "      <td>1.6509</td>\n",
              "      <td>85700.0</td>\n",
              "    </tr>\n",
              "    <tr>\n",
              "      <th>3</th>\n",
              "      <td>-114.57</td>\n",
              "      <td>33.64</td>\n",
              "      <td>14.0</td>\n",
              "      <td>1501.0</td>\n",
              "      <td>337.0</td>\n",
              "      <td>515.0</td>\n",
              "      <td>226.0</td>\n",
              "      <td>3.1917</td>\n",
              "      <td>73400.0</td>\n",
              "    </tr>\n",
              "    <tr>\n",
              "      <th>4</th>\n",
              "      <td>-114.57</td>\n",
              "      <td>33.57</td>\n",
              "      <td>20.0</td>\n",
              "      <td>1454.0</td>\n",
              "      <td>326.0</td>\n",
              "      <td>624.0</td>\n",
              "      <td>262.0</td>\n",
              "      <td>1.9250</td>\n",
              "      <td>65500.0</td>\n",
              "    </tr>\n",
              "  </tbody>\n",
              "</table>\n",
              "</div>\n",
              "      <button class=\"colab-df-convert\" onclick=\"convertToInteractive('df-edd3c2c2-454e-4a07-ba81-338dcc325d91')\"\n",
              "              title=\"Convert this dataframe to an interactive table.\"\n",
              "              style=\"display:none;\">\n",
              "        \n",
              "  <svg xmlns=\"http://www.w3.org/2000/svg\" height=\"24px\"viewBox=\"0 0 24 24\"\n",
              "       width=\"24px\">\n",
              "    <path d=\"M0 0h24v24H0V0z\" fill=\"none\"/>\n",
              "    <path d=\"M18.56 5.44l.94 2.06.94-2.06 2.06-.94-2.06-.94-.94-2.06-.94 2.06-2.06.94zm-11 1L8.5 8.5l.94-2.06 2.06-.94-2.06-.94L8.5 2.5l-.94 2.06-2.06.94zm10 10l.94 2.06.94-2.06 2.06-.94-2.06-.94-.94-2.06-.94 2.06-2.06.94z\"/><path d=\"M17.41 7.96l-1.37-1.37c-.4-.4-.92-.59-1.43-.59-.52 0-1.04.2-1.43.59L10.3 9.45l-7.72 7.72c-.78.78-.78 2.05 0 2.83L4 21.41c.39.39.9.59 1.41.59.51 0 1.02-.2 1.41-.59l7.78-7.78 2.81-2.81c.8-.78.8-2.07 0-2.86zM5.41 20L4 18.59l7.72-7.72 1.47 1.35L5.41 20z\"/>\n",
              "  </svg>\n",
              "      </button>\n",
              "      \n",
              "  <style>\n",
              "    .colab-df-container {\n",
              "      display:flex;\n",
              "      flex-wrap:wrap;\n",
              "      gap: 12px;\n",
              "    }\n",
              "\n",
              "    .colab-df-convert {\n",
              "      background-color: #E8F0FE;\n",
              "      border: none;\n",
              "      border-radius: 50%;\n",
              "      cursor: pointer;\n",
              "      display: none;\n",
              "      fill: #1967D2;\n",
              "      height: 32px;\n",
              "      padding: 0 0 0 0;\n",
              "      width: 32px;\n",
              "    }\n",
              "\n",
              "    .colab-df-convert:hover {\n",
              "      background-color: #E2EBFA;\n",
              "      box-shadow: 0px 1px 2px rgba(60, 64, 67, 0.3), 0px 1px 3px 1px rgba(60, 64, 67, 0.15);\n",
              "      fill: #174EA6;\n",
              "    }\n",
              "\n",
              "    [theme=dark] .colab-df-convert {\n",
              "      background-color: #3B4455;\n",
              "      fill: #D2E3FC;\n",
              "    }\n",
              "\n",
              "    [theme=dark] .colab-df-convert:hover {\n",
              "      background-color: #434B5C;\n",
              "      box-shadow: 0px 1px 3px 1px rgba(0, 0, 0, 0.15);\n",
              "      filter: drop-shadow(0px 1px 2px rgba(0, 0, 0, 0.3));\n",
              "      fill: #FFFFFF;\n",
              "    }\n",
              "  </style>\n",
              "\n",
              "      <script>\n",
              "        const buttonEl =\n",
              "          document.querySelector('#df-edd3c2c2-454e-4a07-ba81-338dcc325d91 button.colab-df-convert');\n",
              "        buttonEl.style.display =\n",
              "          google.colab.kernel.accessAllowed ? 'block' : 'none';\n",
              "\n",
              "        async function convertToInteractive(key) {\n",
              "          const element = document.querySelector('#df-edd3c2c2-454e-4a07-ba81-338dcc325d91');\n",
              "          const dataTable =\n",
              "            await google.colab.kernel.invokeFunction('convertToInteractive',\n",
              "                                                     [key], {});\n",
              "          if (!dataTable) return;\n",
              "\n",
              "          const docLinkHtml = 'Like what you see? Visit the ' +\n",
              "            '<a target=\"_blank\" href=https://colab.research.google.com/notebooks/data_table.ipynb>data table notebook</a>'\n",
              "            + ' to learn more about interactive tables.';\n",
              "          element.innerHTML = '';\n",
              "          dataTable['output_type'] = 'display_data';\n",
              "          await google.colab.output.renderOutput(dataTable, element);\n",
              "          const docLink = document.createElement('div');\n",
              "          docLink.innerHTML = docLinkHtml;\n",
              "          element.appendChild(docLink);\n",
              "        }\n",
              "      </script>\n",
              "    </div>\n",
              "  </div>\n",
              "  "
            ]
          },
          "metadata": {},
          "execution_count": 134
        }
      ],
      "source": [
        "train.head()"
      ]
    },
    {
      "cell_type": "code",
      "execution_count": null,
      "metadata": {
        "id": "FVZREnio_xIk",
        "colab": {
          "base_uri": "https://localhost:8080/"
        },
        "outputId": "bdf773c3-bc4f-4fa4-bb99-1437e8174c9c"
      },
      "outputs": [
        {
          "output_type": "execute_result",
          "data": {
            "text/plain": [
              "longitude             float64\n",
              "latitude              float64\n",
              "housing_median_age    float64\n",
              "total_rooms           float64\n",
              "total_bedrooms        float64\n",
              "population            float64\n",
              "households            float64\n",
              "median_income         float64\n",
              "median_house_value    float64\n",
              "dtype: object"
            ]
          },
          "metadata": {},
          "execution_count": 135
        }
      ],
      "source": [
        "train.dtypes"
      ]
    },
    {
      "cell_type": "code",
      "source": [
        "%matplotlib inline\n",
        "import matplotlib.pyplot as plt\n",
        "train.hist(bins=50,figsize=(20,15), color='purple')\n",
        "plt.show()"
      ],
      "metadata": {
        "colab": {
          "base_uri": "https://localhost:8080/",
          "height": 879
        },
        "id": "bRtrGX2iuN0r",
        "outputId": "a398cb5c-8bb4-4486-9fc3-dfa7feb4ad80"
      },
      "execution_count": null,
      "outputs": [
        {
          "output_type": "display_data",
          "data": {
            "text/plain": [
              "<Figure size 1440x1080 with 9 Axes>"
            ],
            "image/png": "[encoded data removed]"
          },
          "metadata": {
            "needs_background": "light"
          }
        }
      ]
    },
    {
      "cell_type": "code",
      "source": [
        "train.plot(kind=\"scatter\", x=\"longitude\", y =\"latitude\", alpha = 0.4, s = train[\"population\"]/100, label = \"Population\",\n",
        "             figsize=(10,7), c=\"median_house_value\", cmap=plt.get_cmap(\"jet\"), colorbar = True)\n",
        "plt.legend()\n",
        "plt.title('We expect high density points around Los Angeles and Central valley region')"
      ],
      "metadata": {
        "colab": {
          "base_uri": "https://localhost:8080/",
          "height": 449
        },
        "id": "rr_xcqzuvUU5",
        "outputId": "608dd11f-5ee8-4073-b581-a8742798e561"
      },
      "execution_count": null,
      "outputs": [
        {
          "output_type": "execute_result",
          "data": {
            "text/plain": [
              "Text(0.5, 1.0, 'We expect high density points around Los Angeles and Central valley region')"
            ]
          },
          "metadata": {},
          "execution_count": 137
        },
        {
          "output_type": "display_data",
          "data": {
            "text/plain": [
              "<Figure size 720x504 with 2 Axes>"
            ],
            "image/png": "[encoded data removed]"
          },
          "metadata": {
            "needs_background": "light"
          }
        }
      ]
    },
    {
      "cell_type": "code",
      "source": [
        "from pandas.plotting import scatter_matrix\n",
        "attributes = [\"median_house_value\", \"median_income\", \"total_rooms\",\n",
        " \"housing_median_age\"]\n",
        "scatter_matrix(train[attributes], figsize=(12, 8))"
      ],
      "metadata": {
        "id": "W_o66166wOPa"
      },
      "execution_count": null,
      "outputs": []
    },
    {
      "cell_type": "markdown",
      "source": [
        "### Definition of COBRA"
      ],
      "metadata": {
        "id": "O3LLbbYFOW59"
      }
    },
    {
      "cell_type": "code",
      "source": [
        "class Dataset:\n",
        "  \"\"\"\n",
        "    Dataset class for COBRA\n",
        "  \"\"\"\n",
        "  def __init__(self,X_train,Y_train,X_test,Y_test):\n",
        "    self.X_train = X_train\n",
        "    self.Y_train = Y_train\n",
        "    self.X_test = X_test\n",
        "    self.Y_test = Y_test\n",
        "  def split(self,ratio):\n",
        "      # ratio = 0.5 si on veut séprarer en taille égale (si paire).\n",
        "      k, = np.shape(self.Y_train)\n",
        "      self.l = int(k*ratio)\n",
        "      self.X_train_BM,self.X_train_cobra = self.X_train[0:self.l],self.X_train[self.l:]\n",
        "      self.Y_train_BM,self.Y_train_cobra = self.Y_train[0:self.l],self.Y_train[self.l:]"
      ],
      "metadata": {
        "id": "-7Stw2B5iv_l"
      },
      "execution_count": null,
      "outputs": []
    },
    {
      "cell_type": "code",
      "source": [
        "class Machine:\n",
        "  \"\"\"\n",
        "    Machine class for COBRA. method fit/predict and score can be improve to adapt better to the different machine that we use as an input for cobra. For now, it only work with sckit learn regressor.\n",
        "  \"\"\"\n",
        "  def __init__(self,name,m,isTrain=False):\n",
        "    self.name = name\n",
        "    self.isTrain = isTrain\n",
        "    self.m = m\n",
        "  def fit(self,X_train,Y_train):\n",
        "    if self.isTrain == False:\n",
        "      self.isTrain=True\n",
        "      return self.m.fit(X_train,Y_train)\n",
        "    else:\n",
        "      raise Exception(f\"Machine {self.name} has already been trained\")\n",
        "  def predict(self,X):\n",
        "    return self.m.predict(X)\n",
        "  def score(self,X,Y):\n",
        "    return self.m.score(X,Y)"
      ],
      "metadata": {
        "id": "u2QBA35onwRq"
      },
      "execution_count": null,
      "outputs": []
    },
    {
      "cell_type": "code",
      "source": [
        "class COBRA:\n",
        "    \"\"\"\n",
        "      Main class of this project. Implement all the methods necessary to train and evaluate COBRA.\n",
        "\n",
        "      Attribut:\n",
        "        - nb_machines [int] : number of machine in COBRA\n",
        "        - machines [dictionary] : dictionary of all machine in COBRA. self.machines[\"name\"] = machine where machine is an object of Machine() class define before.\n",
        "        - ratio [float] : ratio choosen for splitting the training set between D_l and D_k.\n",
        "        - isCobraTrain [bool] : boolean that make sure COBRA is train before evaluating it.\n",
        "        - score_training [dictionary] : dictionary that keep tracks of the performance of the different machines on the training set.\n",
        "        - score_test [dictionary] : dictionary that keep tracks of the performance of the different machines on the test set.\n",
        "        - epsilon [float] : the threshold that we see on the difinition of the COBRA estimator in equation (1)\n",
        "        - preds [dictionary] : dictionary that keep track of the prediction made by the machines for a new dataset X.\n",
        "        - ds [Dataset()] : the dataset that we use to evaluate and train COBRA   \n",
        "\n",
        "      Methods:\n",
        "        - __init__(self,ratio=0.5): Initialisation of the COBRA regressor.\n",
        "        - setEpsilon(self,new_epsilon) : change epsilon to the value of new_epsilon\n",
        "        - chooseEpsilon(self,X,Y) : choose epsilon for a specific dataset according to equation (2)\n",
        "        - addMachine(self,name,m) : add a new machine to the dictionnary machines.\n",
        "        - trainMachines(self,name='ALL') : train the machine \"name\". If name == 'ALL', train all the machine that are not yet trained.\n",
        "        - pretrain(self,verbose=False) : pretrain COBRA by calculating the prediction of all the machines on the dataset D_l.\n",
        "        - predict(self,X,verbose=False) : make prediction on the dataset X.\n",
        "        - evaluate(self,metrics='R square') : evaluate the COBRA regressor on the test set. \n",
        "\n",
        "      yet to be implemented:\n",
        "        - self.alpha [float] : parameters between 0 and 1 that tell us the proportion of the unanimity.\n",
        "      \n",
        "    \"\"\"\n",
        "    def __init__(self,ratio=0.5):\n",
        "        self.nb_machines = 0\n",
        "        self.machines = {}\n",
        "        self.ratio = ratio\n",
        "        self.isCobraTrain = False\n",
        "        self.scores_training = {}\n",
        "        self.scores_test = {}\n",
        "        self.epsilon = 0\n",
        "        self.preds = {}\n",
        "        self.alpha = 1\n",
        "\n",
        "    def setEpsilon(self,new_epsilon):\n",
        "      self.epsilon = new_epsilon\n",
        "    \n",
        "    def setAlpha(self,new_alpha):\n",
        "      self.alpha = new_alpha\n",
        "\n",
        "    def chooseEpsilon(self,X,Y):\n",
        "      max = - np.Infinity\n",
        "      min = np.Infinity\n",
        "      for name, machine in self.machines.items():\n",
        "        temp_max = np.max(machine.predict(X))\n",
        "        temp_min = np.min(machine.predict(X))\n",
        "        if temp_max > max:\n",
        "          max = temp_max\n",
        "        if temp_min < min:\n",
        "          min = temp_min\n",
        "      self.epsilon = max - min \n",
        "    \n",
        "    def hyperparamOpti(self,X,Y):\n",
        "      max = - np.Infinity\n",
        "      min = np.Infinity\n",
        "      for name, machine in self.machines.items():\n",
        "        temp_max = np.max(machine.predict(X))\n",
        "        temp_min = np.min(machine.predict(X))\n",
        "        if temp_max > max:\n",
        "          max = temp_max\n",
        "        if temp_min < min:\n",
        "          min = temp_min\n",
        "      l_alpha = [ 1/i for i in range(1,self.nb_machines+1) ]\n",
        "      l_epsilon = np.linspace(10**(-300),max-min,20)\n",
        "      best_epsilon = 0\n",
        "      best_alpha = 0\n",
        "      score = 0\n",
        "      for i,alpha in enumerate(l_alpha):\n",
        "        self.alpha = alpha\n",
        "        for j,epsilon in enumerate(l_epsilon):\n",
        "          print(f\"Iteration number {i*len(l_epsilon)+j}/{len(l_alpha)*len(l_epsilon)} : \\t epsilon = {self.epsilon} \\t alpha = {self.alpha}\")\n",
        "          self.epsilon = epsilon\n",
        "          try :\n",
        "            precision,new_score = self.evaluate(X,Y,all=True)\n",
        "            print(f'loss is {new_score}')\n",
        "            print(f'precision is {precision}')\n",
        "            if self.evaluate(X,Y,metrics='quadratic loss') > score:\n",
        "              best_epsilon = epsilon\n",
        "              best_alpha = alpha\n",
        "          except (Exception):\n",
        "            pass\n",
        "      self.epsilon = best_epsilon\n",
        "      self.alpha = best_alpha\n",
        "\n",
        "    def addMachine(self,name,m):\n",
        "      newM = Machine(name,m)\n",
        "      self.machines[newM.name] = newM\n",
        "      self.nb_machines+=1\n",
        "\n",
        "    def addDataset(self,X_train,Y_train,X_test,Y_test):\n",
        "      self.ds = Dataset(X_train,Y_train,X_test,Y_test)\n",
        "      self.ds.split(self.ratio)\n",
        "\n",
        "    def trainMachines(self,name='ALL'):\n",
        "      if name=='ALL':\n",
        "        for name,machine in self.machines.items():\n",
        "          if machine.isTrain ==False:\n",
        "            print(f\"Training of machine {name}\")\n",
        "            machine.fit(self.ds.X_train_BM,self.ds.Y_train_BM)\n",
        "            score_training = machine.score(self.ds.X_train_BM,self.ds.Y_train_BM)\n",
        "            score_test = machine.score(self.ds.X_test,self.ds.Y_test)\n",
        "            self.scores_training[name] = score_training\n",
        "            self.scores_test[name] = score_test\n",
        "            print(f\"Machine {name} score on training set is:{score_training}\")\n",
        "            print(f\"Machine {name} score on test set is:{score_test}\")\n",
        "            print(\"\\n===================================================\")\n",
        "\n",
        "      else:\n",
        "        if self.machines[name].isTrain == False:\n",
        "          self.machines[name].fit(self.ds.X_train_BM,self.ds.Y_train_BM)\n",
        "          self.machines[name] = machine\n",
        "          score_training = machine.score(self.ds.X_train_BM,self.ds.Y_train_BM)\n",
        "          score_test = machine.score(self.ds.X_test,self.ds.Y_test)\n",
        "          self.scores_training[name] = score_training\n",
        "          self.scores_test[name] = score_test\n",
        "          print(f\"Machine {name} score on training set is:{score_training}\")\n",
        "          print(f\"Machine {name} score on test set is:{score_test}\")\n",
        "          print(\"\\n===================================================\")\n",
        "\n",
        "        else:\n",
        "          raise Exception(\"Machine déjà entrainer\")\n",
        "\n",
        "    def pretrain(self,verbose=False):\n",
        "      for name,machine in self.machines.items():\n",
        "        if machine.isTrain == False:\n",
        "          raise Exception(f\"Machine {name} is not train yet, you have to train it first\")\n",
        "      if verbose:\n",
        "        print(\"All the machine have been train, we can now pretrain COBRA\")\n",
        "      if self.isCobraTrain:\n",
        "        raise Exception(\"COBRA is already pretrain\")\n",
        "      for name,machine in self.machines.items():\n",
        "        if verbose:\n",
        "          print(f\"Making prediction for machine {name}\")\n",
        "        self.preds[name] = machine.predict(self.ds.X_train_cobra)\n",
        "      self.isCobraTrain = True\n",
        "\n",
        "    def predict(self,X,verbose=False):\n",
        "      if self.epsilon == 0:\n",
        "        raise Exception (\"Epsilon has not yet been choose\")\n",
        "      if self.isCobraTrain == False:\n",
        "        raise Exception (\"Cobra is not pretrain yet, please execute the method .pretrain_corbra() first\")\n",
        "      if verbose:\n",
        "        print(\"COBRA is pretrain, we can now enter in the prediction phase\")\n",
        "      pred_x = {}\n",
        "      res = np.ones(len(X))\n",
        "      if verbose:\n",
        "        print(f'size of the test set is : {len(X)}')\n",
        "      size_intervalle = len(self.ds.X_train_cobra) //100\n",
        "      res={}\n",
        "      for name,machine in self.machines.items():\n",
        "        if verbose:\n",
        "          print(f\"Prediction for {name}\")\n",
        "        cpt = 0\n",
        "        pred = machine.predict(X)\n",
        "        res_machine = []\n",
        "        for i in range(len(self.ds.X_train_cobra)):\n",
        "          if verbose: #useless au final\n",
        "            if i % size_intervalle == 0:\n",
        "              cpt+=1\n",
        "              print(\"[\" + \"=\" *cpt + \" \"*(100-cpt) + \"]\" + f\"    example number = {i}/{len(self.ds.X_train_cobra)}\")\n",
        "          temp_array = np.ones(len(pred))*self.preds[name][i]\n",
        "          #print(f\"content of the res_machine.append{np.abs(pred - temp_array)}\")\n",
        "          #print(f\"temp array {temp_array}\")\n",
        "          #print(f\"np.where result is {np.where(np.abs(pred - temp_array) <= self.epsilon,1,0)}\")\n",
        "          res_machine.append(np.where(np.abs(pred - temp_array) <= self.epsilon,1,0))\n",
        "        res[name]= np.array(res_machine)\n",
        "      #print(f\"res_machine is {res_machine}\")\n",
        "      final_res = np.ones((len(self.ds.X_train_cobra),len(X),self.nb_machines)) #modify by adding self.nb_machines\n",
        "      for i,keys in enumerate(res):\n",
        "        final_res[:,:,i] = res[keys]\n",
        "      final_res = np.sum(final_res,axis=-1) #We sum on the number of machines.\n",
        "      #print(final_res.shape)\n",
        "      if verbose:\n",
        "        print(f\"Number of non zeros value is {np.count_nonzero(final_res)}\")\n",
        "        print(f\"Number of 0 is {np.count_nonzero(final_res == 0)}\")\n",
        "      indices=[]\n",
        "      normalisation_factor = []\n",
        "      y_pred = np.zeros(len(X))\n",
        "      #print(f\"final res is: {final_res}\")\n",
        "      for j in range(len(final_res[0])):\n",
        "        #print(f\"np where result {np.where(final_res[:,j] >= self.alpha * self.nb_machines )}\")\n",
        "        indices.append(np.where(final_res[:,j] >= self.alpha * self.nb_machines )[0])\n",
        "        #normalisation_factor.append(np.sum(final_res[:,j]))\n",
        "        normalisation_factor.append(np.sum(np.where(final_res[:,j] >= self.alpha * self.nb_machines,0,1)))\n",
        "        #print(np.sum(final_res[:,j]))\n",
        "      #print(normalisation_factor[2])\n",
        "      ##print(indices[0])\n",
        "      for i in range(len(indices)):\n",
        "        if normalisation_factor[i] ==0:\n",
        "          raise Exception (f\"Can't predict example {i} in the training set because no label is close enought\")\n",
        "        sum=0\n",
        "        for indice in indices[i]:\n",
        "          #print(indice)\n",
        "          #print(self.ds.Y_train_cobra.iloc[indice])\n",
        "          sum+= self.ds.Y_train_cobra.to_numpy()[indice]\n",
        "        sum=sum/normalisation_factor[i]\n",
        "        y_pred[i]=sum\n",
        "      return(y_pred)\n",
        "\n",
        "    def evaluate(self,X,y_true,all=True,metrics='R square'):\n",
        "      if all:\n",
        "        y_pred = self.predict(X,verbose=False)\n",
        "        n = len(y_true)\n",
        "        u = np.sum(np.power((y_true - y_pred),2))\n",
        "        v = np.sum(np.power((y_true - np.mean(y_true)),2))\n",
        "        precision = 1 - (u/v)\n",
        "        loss = (1/n) * (np.sum(np.power(y_pred - y_true,2)))\n",
        "        return precision,loss\n",
        "      if metrics == 'R square':\n",
        "        y_pred = self.predict(X,verbose=False)\n",
        "        #print(type(y_pred))\n",
        "        #print(y_pred)\n",
        "        #print(type(y_true))\n",
        "        #print(y_true)\n",
        "        u = np.sum(np.power((y_true - y_pred),2))\n",
        "        v = np.sum(np.power((y_true - np.mean(y_true)),2))\n",
        "        return(1-u/v)\n",
        "      if metrics.lower() == 'quadratic loss':\n",
        "        y_pred = self.predict(X,verbose=False)\n",
        "        n = len(y_true)\n",
        "        return (1/n) * (np.sum(np.power(y_pred - y_true,2)))\n",
        "\n",
        "      else:\n",
        "        raise Exception(\"Metrics non implemented yet\")\n"
      ],
      "metadata": {
        "id": "GEKIy0k5nRkQ"
      },
      "execution_count": null,
      "outputs": []
    },
    {
      "cell_type": "markdown",
      "source": [
        "### Quick application"
      ],
      "metadata": {
        "id": "ND0hWwt0OfMp"
      }
    },
    {
      "cell_type": "code",
      "source": [
        "# We shuffle the dataset (We see that de data was sorted by localisation so it is important to shuffle the dataset here)\n",
        "train= train.sample(frac = 1)\n",
        "test = test.sample(frac = 1)\n",
        "#We split the dataset in 4 different array: X_train, Y_train,X_test,Y_test\n",
        "#Training set\n",
        "X_train,Y_train = train,train['median_house_value']\n",
        "X_train = X_train.drop(['median_house_value'], axis = 1)\n",
        "#Test set\n",
        "X_test,Y_test = test,test['median_house_value']\n",
        "X_test = X_test.drop(['median_house_value'], axis = 1)"
      ],
      "metadata": {
        "id": "obZqrGEuOe8e"
      },
      "execution_count": null,
      "outputs": []
    },
    {
      "cell_type": "code",
      "source": [
        "cobra = COBRA()"
      ],
      "metadata": {
        "id": "fm439H2qIWIB"
      },
      "execution_count": null,
      "outputs": []
    },
    {
      "cell_type": "code",
      "source": [
        "cobra.addDataset(X_train,Y_train,X_test,Y_test)"
      ],
      "metadata": {
        "id": "y4378Tc3IlHk"
      },
      "execution_count": null,
      "outputs": []
    },
    {
      "cell_type": "code",
      "source": [
        "rf = RandomForestRegressor(random_state=0)\n",
        "lasso = sk.linear_model.LassoLars(alpha=.1, normalize=False)\n",
        "ridge = sk.linear_model.Ridge(alpha=.5)\n",
        "#tr = tree.DecisionTreeClassifier()\n",
        "#nbrs = NearestNeighbors()\n",
        "#reg = linear_model.Lars(n_nonzero_coefs=1)\n",
        "#clf = MLPClassifier(solver='lbfgs', alpha=1e-5, hidden_layer_sizes=(5, 2), random_state=1)"
      ],
      "metadata": {
        "id": "EZ0yoPoRIzF0"
      },
      "execution_count": null,
      "outputs": []
    },
    {
      "cell_type": "code",
      "source": [
        "cobra.addMachine(\"Random Forest\",rf)\n",
        "cobra.addMachine(\"LASSO\",lasso)\n",
        "cobra.addMachine(\"RIDGE\",ridge)\n",
        "#cobra.addMachine(\"CART\",tr)\n",
        "#cobra.addMachine(\"knn\",nbrs)\n",
        "#cobra.addMachine(\"lars\",reg)\n",
        "#cobra.addMachine(\"NeuralNet\",clf)"
      ],
      "metadata": {
        "id": "YYze3Z3JIs4_"
      },
      "execution_count": null,
      "outputs": []
    },
    {
      "cell_type": "code",
      "source": [
        "cobra.trainMachines()"
      ],
      "metadata": {
        "colab": {
          "base_uri": "https://localhost:8080/"
        },
        "id": "a18PKj7GJfs8",
        "outputId": "373dc976-60c8-4851-ba06-6f4656b09a51"
      },
      "execution_count": null,
      "outputs": [
        {
          "output_type": "stream",
          "name": "stdout",
          "text": [
            "Training of machine Random Forest\n",
            "Machine Random Forest score on training set is:0.9730220147289966\n",
            "Machine Random Forest score on test set is:0.7944310036380758\n",
            "\n",
            "===================================================\n",
            "Training of machine LASSO\n",
            "Machine LASSO score on training set is:0.6435156929576104\n",
            "Machine LASSO score on test set is:0.6183941637971252\n",
            "\n",
            "===================================================\n",
            "Training of machine RIDGE\n",
            "Machine RIDGE score on training set is:0.6435156894929104\n",
            "Machine RIDGE score on test set is:0.6183953521387684\n",
            "\n",
            "===================================================\n"
          ]
        }
      ]
    },
    {
      "cell_type": "code",
      "source": [
        "cobra.pretrain()"
      ],
      "metadata": {
        "id": "NU2ern4-NEUt"
      },
      "execution_count": null,
      "outputs": []
    },
    {
      "cell_type": "code",
      "source": [
        "#cobra.hyperparamOpti(cobra.ds.X_test,cobra.ds.Y_test)"
      ],
      "metadata": {
        "id": "jCd_wUUkL5x4"
      },
      "execution_count": null,
      "outputs": []
    },
    {
      "cell_type": "code",
      "source": [
        "cobra.setAlpha(1)\n",
        "print(cobra.alpha)"
      ],
      "metadata": {
        "colab": {
          "base_uri": "https://localhost:8080/"
        },
        "id": "ZNA-ID1fiQPI",
        "outputId": "e4b48fb3-a7db-46b6-e3fc-679ab4215ec8"
      },
      "execution_count": null,
      "outputs": [
        {
          "output_type": "stream",
          "name": "stdout",
          "text": [
            "1\n"
          ]
        }
      ]
    },
    {
      "cell_type": "code",
      "source": [
        "cobra.setEpsilon(100000)\n",
        "cobra.evaluate(cobra.ds.X_test,cobra.ds.Y_test)"
      ],
      "metadata": {
        "id": "WMrwpPg5NMp8",
        "colab": {
          "base_uri": "https://localhost:8080/"
        },
        "outputId": "e882ea00-f793-4fd6-83f9-278f47fa4bb0"
      },
      "execution_count": null,
      "outputs": [
        {
          "output_type": "execute_result",
          "data": {
            "text/plain": [
              "(-0.9341887951587391, 24741753016.578026)"
            ]
          },
          "metadata": {},
          "execution_count": 159
        }
      ]
    },
    {
      "cell_type": "code",
      "source": [
        "cobra.machines[\"Random Forest\"].score(cobra.ds.X_test,cobra.ds.Y_test)"
      ],
      "metadata": {
        "colab": {
          "base_uri": "https://localhost:8080/"
        },
        "id": "NbFe0PdLPlk7",
        "outputId": "2613cb78-1758-43be-ab0a-5515c7dbdaef"
      },
      "execution_count": null,
      "outputs": [
        {
          "output_type": "execute_result",
          "data": {
            "text/plain": [
              "0.7944310036380758"
            ]
          },
          "metadata": {},
          "execution_count": 155
        }
      ]
    },
    {
      "cell_type": "code",
      "source": [
        "cobra.machines[\"LASSO\"].score(cobra.ds.X_test,cobra.ds.Y_test)"
      ],
      "metadata": {
        "colab": {
          "base_uri": "https://localhost:8080/"
        },
        "id": "mOAdXgg0P1sK",
        "outputId": "ddf23768-a4ad-4555-85b4-c09ff19b94dc"
      },
      "execution_count": null,
      "outputs": [
        {
          "output_type": "execute_result",
          "data": {
            "text/plain": [
              "0.6191316166299037"
            ]
          },
          "metadata": {},
          "execution_count": 22
        }
      ]
    },
    {
      "cell_type": "code",
      "source": [
        "cobra.machines[\"RIDGE\"].score(cobra.ds.X_test,cobra.ds.Y_test)"
      ],
      "metadata": {
        "id": "LjmfhOlFP2G4",
        "colab": {
          "base_uri": "https://localhost:8080/"
        },
        "outputId": "3a45023a-1f3b-4f0d-dee1-e3df5c6d6356"
      },
      "execution_count": null,
      "outputs": [
        {
          "output_type": "execute_result",
          "data": {
            "text/plain": [
              "0.6191313080193286"
            ]
          },
          "metadata": {},
          "execution_count": 23
        }
      ]
    }
  ],
  "metadata": {
    "colab": {
      "provenance": [],
      "collapsed_sections": [
        "ZwksytsyWSR-"
      ]
    },
    "kernelspec": {
      "display_name": "Python 3",
      "name": "python3"
    },
    "language_info": {
      "name": "python"
    },
    "accelerator": "TPU",
    "gpuClass": "standard"
  },
  "nbformat": 4,
  "nbformat_minor": 0
}
